{
 "cells": [
  {
   "cell_type": "code",
   "execution_count": 1,
   "metadata": {
    "collapsed": true
   },
   "outputs": [],
   "source": [
    "#Import the required libreries\n",
    "\n",
    "from bs4 import BeautifulSoup\n",
    "import requests\n",
    "import pandas as pd"
   ]
  },
  {
   "cell_type": "code",
   "execution_count": 3,
   "metadata": {},
   "outputs": [],
   "source": [
    "#Specify and extract the url\n",
    "\n",
    "url = \"https://www.flipkart.com/books/higher-education-and-professional-books/pr?sid=bks,f50&p[]=facets.serviceability%5B%5D%3Dtrue&otracker=categorytree\"\n",
    "response = requests.get(url)\n",
    "\n",
    "#Convert into text\n",
    "data = response.text\n",
    "\n",
    "soup = BeautifulSoup(data,'html.parser')\n",
    "\n",
    "#Find the job class\n",
    "books = soup.find_all('div',{'class':'_3liAhj _1R0K0g'})\n",
    "\n",
    "#Creating a disctionary for storing values\n",
    "books_dict = {}\n",
    "book_no = 0\n",
    "\n",
    "#Creating a for loop for extracting all the values in book\n",
    "for book in books:\n",
    "    title = book.find('a',{'class':'_2cLu-l'}).text\n",
    "    link = book.find('a',{'class':'Zhf2z-'}).get('href')\n",
    "    rating_book = book.find('div',{'class':'hGSR34'})\n",
    "    rating = rating_book.text if rating_book else \"N/A\"\n",
    "    price = book.find('div',{'class':'_1vC4OE'}).text\n",
    "    book_no+=1\n",
    "    books_dict[book_no] = [title, link, rating, price]\n",
    "  #  print('Title:',title,'\\nlink:',link,'\\nrating:',rating,'\\nprice:',price,'\\n----------\\n')\n",
    "df = pd.DataFrame.from_dict(books_dict, orient = 'index')\n",
    "df.columns = ['Book_title', 'Book_link', 'Book_rating','Book_price']\n",
    "\n"
   ]
  },
  {
   "cell_type": "code",
   "execution_count": 5,
   "metadata": {},
   "outputs": [
    {
     "data": {
      "text/html": [
       "<div>\n",
       "<style>\n",
       "    .dataframe thead tr:only-child th {\n",
       "        text-align: right;\n",
       "    }\n",
       "\n",
       "    .dataframe thead th {\n",
       "        text-align: left;\n",
       "    }\n",
       "\n",
       "    .dataframe tbody tr th {\n",
       "        vertical-align: top;\n",
       "    }\n",
       "</style>\n",
       "<table border=\"1\" class=\"dataframe\">\n",
       "  <thead>\n",
       "    <tr style=\"text-align: right;\">\n",
       "      <th></th>\n",
       "      <th>Book_title</th>\n",
       "      <th>Book_link</th>\n",
       "      <th>Book_rating</th>\n",
       "      <th>Book_price</th>\n",
       "    </tr>\n",
       "  </thead>\n",
       "  <tbody>\n",
       "    <tr>\n",
       "      <th>1</th>\n",
       "      <td>50 World's Greatest Essays</td>\n",
       "      <td>/50-world-s-greatest-essays/p/itmf77bx3fzxtdpk...</td>\n",
       "      <td>4.2</td>\n",
       "      <td>₹240</td>\n",
       "    </tr>\n",
       "    <tr>\n",
       "      <th>2</th>\n",
       "      <td>Traffic Engineering and Transport Planning</td>\n",
       "      <td>/traffic-engineering-transport-planning/p/itmc...</td>\n",
       "      <td>4.4</td>\n",
       "      <td>₹421</td>\n",
       "    </tr>\n",
       "    <tr>\n",
       "      <th>3</th>\n",
       "      <td>The Theory Of Everything</td>\n",
       "      <td>/the-theory-of-everything/p/itmfc4ubkshsj8px?p...</td>\n",
       "      <td>4.5</td>\n",
       "      <td>₹110</td>\n",
       "    </tr>\n",
       "    <tr>\n",
       "      <th>4</th>\n",
       "      <td>Certificate Physical and Human Geography</td>\n",
       "      <td>/certificate-physical-human-geography/p/itmczy...</td>\n",
       "      <td>4.5</td>\n",
       "      <td>₹241</td>\n",
       "    </tr>\n",
       "    <tr>\n",
       "      <th>5</th>\n",
       "      <td>Concepts of Phyics: v. 1</td>\n",
       "      <td>/concepts-phyics-v-1/p/itma5238182f0ec1?pid=97...</td>\n",
       "      <td>4.5</td>\n",
       "      <td>₹309</td>\n",
       "    </tr>\n",
       "  </tbody>\n",
       "</table>\n",
       "</div>"
      ],
      "text/plain": [
       "                                   Book_title  \\\n",
       "1                  50 World's Greatest Essays   \n",
       "2  Traffic Engineering and Transport Planning   \n",
       "3                    The Theory Of Everything   \n",
       "4    Certificate Physical and Human Geography   \n",
       "5                    Concepts of Phyics: v. 1   \n",
       "\n",
       "                                           Book_link Book_rating Book_price  \n",
       "1  /50-world-s-greatest-essays/p/itmf77bx3fzxtdpk...         4.2       ₹240  \n",
       "2  /traffic-engineering-transport-planning/p/itmc...         4.4       ₹421  \n",
       "3  /the-theory-of-everything/p/itmfc4ubkshsj8px?p...         4.5       ₹110  \n",
       "4  /certificate-physical-human-geography/p/itmczy...         4.5       ₹241  \n",
       "5  /concepts-phyics-v-1/p/itma5238182f0ec1?pid=97...         4.5       ₹309  "
      ]
     },
     "execution_count": 5,
     "metadata": {},
     "output_type": "execute_result"
    }
   ],
   "source": [
    "#Printing first 5 lines of the dataframe\n",
    "df.head()"
   ]
  },
  {
   "cell_type": "code",
   "execution_count": 35,
   "metadata": {
    "collapsed": true
   },
   "outputs": [],
   "source": [
    "#Convert the file into csv \n",
    "df.to_csv('books_flipkart.csv')"
   ]
  }
 ],
 "metadata": {
  "kernelspec": {
   "display_name": "Python 3",
   "language": "python",
   "name": "python3"
  },
  "language_info": {
   "codemirror_mode": {
    "name": "ipython",
    "version": 3
   },
   "file_extension": ".py",
   "mimetype": "text/x-python",
   "name": "python",
   "nbconvert_exporter": "python",
   "pygments_lexer": "ipython3",
   "version": "3.6.1"
  }
 },
 "nbformat": 4,
 "nbformat_minor": 2
}
